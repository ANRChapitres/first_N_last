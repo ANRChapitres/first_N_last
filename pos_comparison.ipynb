{
 "cells": [
  {
   "cell_type": "code",
   "execution_count": 5,
   "metadata": {},
   "outputs": [],
   "source": [
    "import os\n",
    "import fnmatch\n",
    "from lxml import etree\n",
    "from collections import OrderedDict"
   ]
  },
  {
   "cell_type": "code",
   "execution_count": 3,
   "metadata": {},
   "outputs": [],
   "source": [
    "path_to_folder='/home/odysseus/Bureau/chapitres/git_repo/romans_tagged/'\n",
    "files_list=fnmatch.filter(os.listdir(path_to_folder), '*.xml')\n",
    "output_dir = '/home/odysseus/Bureau/chapitres/code/first_N_last/'"
   ]
  },
  {
   "cell_type": "code",
   "execution_count": 6,
   "metadata": {},
   "outputs": [],
   "source": [
    "dic_stats_first=OrderedDict()\n",
    "dic_stats_last=OrderedDict()"
   ]
  },
  {
   "cell_type": "code",
   "execution_count": 7,
   "metadata": {},
   "outputs": [],
   "source": [
    "def stats_POS (elem, pos, entry, map_stats):\n",
    "    nb_pos = len(elem.findall(\".//word[@postag='\"+pos+\"']\"))\n",
    "    if map_stats[entry]:\n",
    "        prev_val = map_stats[entry]\n",
    "        map_stats[entry] = prev_val+nb_pos\n",
    "    else :\n",
    "        map_stats[entry] = nb_pos\n",
    "    \n",
    "    return map_stats"
   ]
  },
  {
   "cell_type": "code",
   "execution_count": null,
   "metadata": {},
   "outputs": [],
   "source": [
    "count_header=0  \n",
    "for file in files_list:\n",
    "    tmpFile=file.replace(\"/\",\":\")\n",
    "    full_path=path_to_folder+tmpFile\n",
    "    if os.path.isfile(full_path):\n",
    "        tree=etree.parse(full_path)\n",
    "        if tree.findall(\".//div[@type='chapter']\"):\n",
    "            elem_first = tree.findall(\".//div[@type='chapter']\")[0]\n",
    "            dic_stats_first = stats_POS(elem_first, 'NAME', 'name_first', dic_stats_first)\n",
    "            dic_stats_first = stats_POS(elem_first, 'NAMEpersf', 'name_first', dic_stats_first)\n",
    "            dic_stats_first = stats_POS(elem_first, 'NAMEpersm', 'name_first', dic_stats_first)\n",
    "            dic_stats_first = stats_POS(elem_first, 'NAMEplace', 'name_first', dic_stats_first)\n",
    "            dic_stats_first = stats_POS(elem_first, 'NAMEgod', 'name_first', dic_stats_first)\n",
    "            dic_stats_first = stats_POS(elem_first, 'VERB', 'verb_first', dic_stats_first)\n",
    "            dic_stats_first = stats_POS(elem_first, 'CONJsubord', 'sub_first', dic_stats_first)\n",
    "            dic_stats_first = stats_POS(elem_first, 'CONJcoord', 'coord_first', dic_stats_first)\n",
    "            dic_stats_first = stats_POS(elem_first, 'PUNcl', 'light_pun_first', dic_stats_first)\n",
    "            dic_stats_first = stats_POS(elem_first, 'PUNsent', 'sent_pun_first', dic_stats_first)\n",
    "\n",
    "            elem_last = tree.findall(\".//div[@type='chapter']\")[len(tree.findall(\".//div[@type='chapter']\"))-1]\n",
    "            dic_stats_last = stats_POS(elem_last, 'NAME', 'name_last', dic_stats_last)\n",
    "            dic_stats_last = stats_POS(elem_last, 'NAMEpersf', 'name_last', dic_stats_last)\n",
    "            dic_stats_last = stats_POS(elem_last, 'NAMEpersm', 'name_last', dic_stats_last)\n",
    "            dic_stats_last = stats_POS(elem_last, 'NAMEplace', 'name_last', dic_stats_last)\n",
    "            dic_stats_last = stats_POS(elem_last, 'NAMEgod', 'name_last', dic_stats_last)\n",
    "            dic_stats_last = stats_POS(elem_last, 'VERB', 'verb_last', dic_stats_last)\n",
    "            dic_stats_last = stats_POS(elem_last, 'CONJsubord', 'sub_last', dic_stats_last)\n",
    "            dic_stats_last = stats_POS(elem_last, 'CONJcoord', 'coord_last', dic_stats_last)\n",
    "            dic_stats_last = stats_POS(elem_last, 'PUNcl', 'light_pun_last', dic_stats_last)\n",
    "            dic_stats_last = stats_POS(elem_last, 'PUNsent', 'sent_pun_last', dic_stats_last)\n",
    "                \n",
    "    print('File done : '+file)   "
   ]
  },
  {
   "cell_type": "code",
   "execution_count": null,
   "metadata": {},
   "outputs": [],
   "source": [
    "with open(args.csv+'global.csv', 'a') as f:\n",
    "    headers=list(dic_stats_first.keys())\n",
    "    writer = csv.DictWriter(f, delimiter=',', lineterminator='\\n',fieldnames=headers)\n",
    "    for key in dic_stats_first.keys():\n",
    "        "
   ]
  }
 ],
 "metadata": {
  "kernelspec": {
   "display_name": "Python 3",
   "language": "python",
   "name": "python3"
  },
  "language_info": {
   "codemirror_mode": {
    "name": "ipython",
    "version": 3
   },
   "file_extension": ".py",
   "mimetype": "text/x-python",
   "name": "python",
   "nbconvert_exporter": "python",
   "pygments_lexer": "ipython3",
   "version": "3.5.2"
  }
 },
 "nbformat": 4,
 "nbformat_minor": 2
}
